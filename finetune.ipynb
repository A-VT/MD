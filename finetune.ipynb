{
 "cells": [
  {
   "cell_type": "code",
   "execution_count": 30,
   "metadata": {},
   "outputs": [],
   "source": [
    "from typing import Optional\n",
    "\n",
    "from langchain_core.pydantic_v1 import BaseModel, Field\n",
    "from langchain_together import ChatTogether\n",
    "from langchain_core.prompts import ChatPromptTemplate, MessagesPlaceholder\n",
    "\n",
    "# environment variables\n",
    "import os \n",
    "from dotenv import load_dotenv\n",
    "\n",
    "import fitz  # PyMuPDF\n",
    "import re"
   ]
  },
  {
   "cell_type": "code",
   "execution_count": 31,
   "metadata": {},
   "outputs": [],
   "source": [
    "load_dotenv()\n",
    "API_KEY = os.getenv(\"API_KEY\")"
   ]
  },
  {
   "cell_type": "code",
   "execution_count": 7,
   "metadata": {},
   "outputs": [],
   "source": [
    "llm = ChatTogether(\n",
    "    together_api_key=API_KEY,\n",
    "    model=\"mistralai/Mixtral-8x7B-Instruct-v0.1\",\n",
    ")"
   ]
  },
  {
   "cell_type": "code",
   "execution_count": 71,
   "metadata": {},
   "outputs": [],
   "source": [
    "class Person(BaseModel):\n",
    "    \"\"\"The skill from a candidate's CV.\"\"\"\n",
    "\n",
    "    # ^ Doc-string for the entity Person.\n",
    "    # This doc-string is sent to the LLM as the description of the schema Person,\n",
    "    # and it can help to improve extraction results.\n",
    "\n",
    "    # Note that:\n",
    "    # 1. Each field is an `optional` -- this allows the model to decline to extract it!\n",
    "    # 2. Each field has a `description` -- this description is used by the LLM.\n",
    "    # Having a good description can help improve extraction results.\n",
    "    name: Optional[str] = Field(default=None, description=\"The name of the person\")\n",
    "    skills: Optional[list] = Field(default=None, description=\"The hard/soft skills acquired by the candidate\")\n",
    "    experiences: Optional[list] = Field(default=None, description=\"level of experience in a particular field\")\n",
    "    locations: Optional[list] = Field(default=None, description=\"The cities, contry or company where the person has worked or studied\")"
   ]
  },
  {
   "cell_type": "code",
   "execution_count": 72,
   "metadata": {},
   "outputs": [],
   "source": [
    "prompt = ChatPromptTemplate.from_messages(\n",
    "    [\n",
    "        (\n",
    "            \"system\",\n",
    "            \"You are an expert extraction algorithm. \"\n",
    "            \"Only extract relevant information from the text. \"\n",
    "            \"If you do not know the value of an attribute asked to extract, \"\n",
    "            \"Never return the examples placeholder, try to use it as a reference only.\"\n",
    "            \"return null for the attribute's value.\",\n",
    "        ),\n",
    "        # Please see the how-to about improving performance with\n",
    "        # reference examples.\n",
    "        # MessagesPlaceholder('examples'),\n",
    "        (\"human\", \"{text}\"),\n",
    "    ]\n",
    ")"
   ]
  },
  {
   "cell_type": "code",
   "execution_count": 73,
   "metadata": {},
   "outputs": [],
   "source": [
    "runnable = prompt | llm.with_structured_output(schema=Person)"
   ]
  },
  {
   "cell_type": "code",
   "execution_count": 80,
   "metadata": {},
   "outputs": [],
   "source": [
    "def extract_text_from_pdf(pdf_path):\n",
    "    text = \"\"\n",
    "    with fitz.open(pdf_path) as doc:\n",
    "        for page in doc:\n",
    "            text += page.get_text()\n",
    "    return text\n",
    "\n",
    "def clean_text(text):\n",
    "    # Remove newline characters\n",
    "    text = re.sub(r'\\n', ' ', text)\n",
    "    \n",
    "    # Remove URLs\n",
    "    text = re.sub(r'http\\S+|www\\.\\S+', '', text)\n",
    "    \n",
    "    # Remove emails\n",
    "    text = re.sub(r'\\S+@\\S+', '', text)\n",
    " \n",
    "    # Remove dates in various formats (e.g., MM/DD/YYYY, YYYY-MM-DD)\n",
    "    text = re.sub(r'\\b\\d{1,2}[-/]\\d{1,2}[-/]\\d{2,4}\\b', '', text)\n",
    "    text = re.sub(r'\\b\\d{4}[-/]\\d{1,2}[-/]\\d{1,2}\\b', '', text)\n",
    "    \n",
    "    # Remove numbers\n",
    "    text = re.sub(r'\\d+', '', text)\n",
    "    \n",
    "    # Remove multiple spaces created from above replacements\n",
    "    text = re.sub(r'\\s+', ' ', text).strip()\n",
    "    \n",
    "    return text\n",
    "\n",
    "\n",
    "# Example usage\n",
    "def getAnswersFromCV(pdf_path):\n",
    "    cv_text = extract_text_from_pdf(pdf_path)\n",
    "    #result = runnable.invoke({\"text\": cv_text})\n",
    "    #cv_text = preprocess_text(cv_text)\n",
    "    return cv_text\n",
    "    #print(cv_text)\n",
    "    #print(preprocessed_text)\n",
    "\n",
    "pdf_path = 'cvs/CV_JoseFonte.pdf'\n",
    "result = getAnswersFromCV(pdf_path)"
   ]
  },
  {
   "cell_type": "code",
   "execution_count": 81,
   "metadata": {},
   "outputs": [
    {
     "data": {
      "text/plain": [
       "'José Pedro Fonte\\nBraga, Portugal\\nĦ +351 931426314\\n|\\nć josebfonte@gmail.com\\n|\\nu www.josefonte.pt\\n|\\n^ github.com/josefonte\\n|\\n]\\nlinkedin.com/in/jose-pedro-fonte/\\nPersonal Profile\\nRecently graduated with a BSc degree in Software Engineering and now pursing a Masters. Always seeking new challenges and innovative ways\\nto apply technical expertise. Beyond coding, I enjoy sports, music and podcast, cinema and reading up on cutting‑edge tech trends.\\nEducation\\nUniversidade do Minho\\nBraga, Portugal\\nMSc in Software Engineering\\nSept 2023 ‑ Present\\n• At the moment, I’m attending my first year in Software Engineering, with my main interests being Distributed Systems, Software Develop‑\\nment(Mobile & Web), AI and Product Design.\\n• Courses: High Performance Computing, AI & ML, Cloud Applications and Services, Formal Methods, Software Development, Network Services\\nEngineering\\n• Distributed Systems Profile : Paradigms of Distributed Systems | Large Scale Distributed Systems | Fault Tolerance\\n• Software Engineering Profile: Mobile Software Development | SW Analysis, Transformation and Testing | Data Science for SW Engineers\\n• TechnicalSkills: OpenMP,MPI,CUDA||JupyterNotebooks, Numpy, Pandas, SKlearn, Seaborn, MatplotLib, TensorFlow, Keras||Ansible, Docker,\\nGCloud, GKE || Python Z3, Alloy, Why3 || React & React UI Libs || Golang, Wireshark, ffmpeg || Documentation ( L\\nA\\nT\\nEX, Typst)\\nUniversidade do Minho\\nBraga, Portugal\\nBSc in Software Engineering\\nSept 2020 ‑ Jun 2023\\n• Finished my BSc in Software Engineering and proceeded to a MSc in Software Engineering in order to deepen my knowledge in Distributed\\nSystems, Software Development & Design and AI, ML & Data Science.\\n• The Bachelors degree has a project‑based learning approach, so most of the subjects include a project, which made me develop the ability to\\ndesign, build and test applications in a dynamic, collaborative and high‑pressure environment.\\n• Relevant Courses: Functional Programming, Imperative Programming, Object Oriented Programming, Algorithms, Operating Systems, Dis‑\\ntributed Systems, Data Bases, Computer Networks & Communications, Compilers & Language Processing, Artificial Intelligence, Machine Learn‑\\ning.\\n• Technical Skills: Java, Python, SQL, C/C++, C#, Haskell, MatLab, Knime,\\nUniversidade do Minho\\nBraga, Portugal\\nBSc in Mechanical Engineering\\nSept 2019 ‑ Jun 2020\\n• Spent one year studying mechanical engineering and decided to change courses to software engineering.\\n• Relevant Courses: Calculus I, Calculus II, Linear Algebra, Material Science I, Material Science II, Technical Drawing, 3D Modelling/CAD, Program‑\\nming and Algorithms.\\nEscola Secundária Alcaides de Faria\\nBarcelos, Portugal\\nHigh School\\nSept 2016 ‑ Jun 2019\\n• Finished with Distinction(18/20) and applied to College with 18.5/20.\\nWork Experience\\nColégio João Paulo II\\nBraga, Portugal\\nAssistant Professor of Robotics\\nSept 2021 ‑ Present\\n• In this weekly robotics class, I teach programming and robotics in a fun and engaging way to kids from the 1st to 8th grade.\\n• Participated in National/European Robotics Competition with my students.\\n• Helped organize robotics events in the country.\\n• Technical Skills: Arduino, MicroBit, LEGO Mindstorms,Scratch\\n• Soft Skills: Teamwork, Time Management, Communication, Teaching, Planning.\\nSngular Portugal\\nRemote, Portugal\\nFull‑Stack Software Engineer Intern | Summer Internship\\nJul 2023 ‑ Sept 2023\\n• Collaborated with a team of summer interns to develop a Jira App integrated in the Atlassian Ecosystem.\\n• The goal of the app was to manage tasks and sub‑tasks inside tickets, with a backbone for admins to manage everything.\\n• At the end of the Summer Internship, my team was able to achieve all goals a week in advance.\\n• Technical Skills: MongoDB, NodeJS, Express, React, Atlassian Design System, Git/Gitlab\\n• Soft Skills: Teamwork, Time Management, Communication, Problem‑Solving, Fast Learning, Agile development.\\nAPRiL 4, 2024\\n1\\nCodeVision\\nBraga, Portugal\\nFull‑Stack Software Engineer Intern | Summer Internship\\nJul 2022 ‑ Oct 2022\\n• Collaborated with a team to develop an internal tool that would connect international partners with the company.\\n• Worked with Entity ORM to manage multiple databases.\\n• At the end of the Summer Internship, I was able to deploy multiple features into production which made the experience really fulfilling.\\n• Technical Skills: C#, .Net Framework, SQL, Azure and Git\\n• Soft Skills: Teamwork, Time Management, Communication, Presentation skills.\\nCAVN\\nBarcelos, Portugal\\nFactory Worker | Summer Job\\nJul 2019 ‑ Aug 2019\\n• Worked on the production‑line of a ceramics factory.\\nCAVN\\nBarcelos, Portugal\\nFactory Worker | Summer Job\\nJul 2018 ‑ Aug 2018\\n• Worked on the packaging‑line of a ceramics factory.\\n• My first summer job as an High‑School student. It allowed me to learn and realise how the industry of manual labour works.\\nVolunteer Experience\\nCesiUM (Centro de Estudantes de Engenharia Informática da Universidade do Minho)\\nBraga, Portugal\\nCollaborator of Recreative Department\\nSept 2023\\n• Plan and organize social activities that bring together students from course.\\nIEEE Student Branch Minho\\nBraga, Portugal\\nCollaborator of Program Committee\\nSept 2023\\n• Plan and organize workshops & talks that bring value to the academic community.\\nCoderDojo Braga\\nBraga, Portugal\\nMentor\\nSept 2023\\n• Teach programming skills to Ninjas from CoderDojo Braga.\\nProjects\\nPACMAN Game\\nBraga, Portugal\\nUniversidade do Minho\\n2020\\n• Github Repo | Figma File\\n• This was my first university project and one of my favourites as it allowed us to explore our creativity and showcase what was possible with a\\nsimple concept in mind and a lot of hard work.\\n• Technical Skills: Haskell, Gloss, Functional Programming, Figma, Photoshop, Game/Level Design\\n• Soft Skills: Time Management, Teamwork, Presentation skills, Report writing.\\nDNS System\\nBraga, Portugal\\nUniversidade do Minho\\n2022\\n• Github Repo | Written Report\\n• In this project the group developed a DNS System really similar to the one used worldwide and a network topology to test its functionalities.\\n• This project was specially challenging due to the technical difficulty and time constrains imposed.\\n• Technical Skills: Python, OOP, TCP/UDP sockets, DNS Queries, Threading & Locks .\\n• Soft Skills: Work Under‑Pressure, Teamwork, Presentation skills, Detailed and Highly Technical writing.\\nPersonal Website\\nBraga, Portugal\\nSide‑Project\\n2022\\n• Github Repo | Website\\n• In this project I wanted to create a minimalist website to showcase my projects, education, photos and a blog.\\n• Technical Skills: NextJS, Vercel, ReactJS, shadcn/ui, Tailwind.\\nAll University Projects\\nBraga, Portugal\\nUniversidade do Minho\\n2022\\n• Github Repo\\n• All my university projects are organized in a github repository.\\n• Other Relevant Projects: Data Science , High Performance Computing , Video Streaming CDN\\nAPRiL 4, 2024\\n2\\nSkills\\nProgramming\\nPython, Java, JavaScript, Typescript, C/C++, C#, Haskell, Golang, MERN, Tailwind\\nMiscellaneous\\nLinux, Shell (Bash/Zsh), L\\nAT\\nEX(Overleaf, Markdown), Microsoft Office, Git/Github, Figma Design, Adobe Creative Suite.\\nSoft Skills\\nTime Management, Team Leading, Teamwork, Problem‑solving, Communication, Documentation, Presentation.\\nInterests\\nRobotics\\nI have made small projects come to life with the help of an Arduino.\\nMusic and Podcasts\\nI love finding new music from other cultures or going through my favorite podcasts.\\nMovies and Series\\nI love to spend some of free time watching movies or TV‑Series\\nSports\\nI practice on a daily basis one of the following activities : Running, Lifting Weights, Swimming, Brazilian Jiu‑Jitsu.\\nLanguages\\nEnglish\\nAdvanced Speaker proficiency | Cambridge C1 (198 Score) and B2 Certificates\\nPortuguese\\nNative proficiency\\nAPRiL 4, 2024\\n3\\n'"
      ]
     },
     "execution_count": 81,
     "metadata": {},
     "output_type": "execute_result"
    }
   ],
   "source": [
    "result"
   ]
  },
  {
   "cell_type": "code",
   "execution_count": 13,
   "metadata": {},
   "outputs": [
    {
     "data": {
      "text/plain": [
       "['python',\n",
       " 'java',\n",
       " 'c',\n",
       " 'haskell',\n",
       " 'prolog',\n",
       " 'html',\n",
       " 'css',\n",
       " 'c',\n",
       " 'matlab',\n",
       " 'sql',\n",
       " 'net',\n",
       " 'javascript',\n",
       " 'mongodb',\n",
       " 'nextjs',\n",
       " 'postgres',\n",
       " 'illustrator',\n",
       " 'photoshop']"
      ]
     },
     "execution_count": 13,
     "metadata": {},
     "output_type": "execute_result"
    }
   ],
   "source": [
    "result.skills"
   ]
  },
  {
   "cell_type": "code",
   "execution_count": null,
   "metadata": {},
   "outputs": [],
   "source": []
  }
 ],
 "metadata": {
  "kernelspec": {
   "display_name": "MD",
   "language": "python",
   "name": "python3"
  },
  "language_info": {
   "codemirror_mode": {
    "name": "ipython",
    "version": 3
   },
   "file_extension": ".py",
   "mimetype": "text/x-python",
   "name": "python",
   "nbconvert_exporter": "python",
   "pygments_lexer": "ipython3",
   "version": "3.12.3"
  }
 },
 "nbformat": 4,
 "nbformat_minor": 2
}
